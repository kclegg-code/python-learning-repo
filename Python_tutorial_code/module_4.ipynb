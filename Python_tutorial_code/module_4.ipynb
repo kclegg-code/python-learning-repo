{
 "cells": [
  {
   "cell_type": "code",
   "execution_count": 34,
   "metadata": {},
   "outputs": [],
   "source": [
    "import pandas as pd\n",
    "#import os if data was stord on local computer\n",
    "#os_filepath = r\"...\""
   ]
  },
  {
   "cell_type": "code",
   "execution_count": 35,
   "metadata": {},
   "outputs": [],
   "source": [
    "filepath_ci= r\"https://raw.githubusercontent.com/data-to-insight/ERN-sessions/main/data/ChildIdentifiers.csv\""
   ]
  },
  {
   "cell_type": "code",
   "execution_count": 36,
   "metadata": {},
   "outputs": [],
   "source": [
    "filepath_cc = r\"https://raw.githubusercontent.com/data-to-insight/ERN-sessions/main/data/ChildCharacteristics.csv\""
   ]
  },
  {
   "cell_type": "code",
   "execution_count": 37,
   "metadata": {},
   "outputs": [],
   "source": [
    "child_identifiers = pd.read_csv(filepath_ci)\n",
    "\n",
    "child_characteristics = pd.read_csv(filepath_cc)"
   ]
  },
  {
   "cell_type": "code",
   "execution_count": 38,
   "metadata": {},
   "outputs": [
    {
     "name": "stdout",
     "output_type": "stream",
     "text": [
      "<class 'pandas.core.frame.DataFrame'>\n",
      "RangeIndex: 332 entries, 0 to 331\n",
      "Data columns (total 9 columns):\n",
      " #   Column                   Non-Null Count  Dtype  \n",
      "---  ------                   --------------  -----  \n",
      " 0   Unnamed: 0               332 non-null    int64  \n",
      " 1   LAchildID                332 non-null    object \n",
      " 2   UPN                      332 non-null    object \n",
      " 3   FormerUPN                0 non-null      float64\n",
      " 4   UPNunknown               0 non-null      float64\n",
      " 5   PersonBirthDate          332 non-null    object \n",
      " 6   ExpectedPersonBirthDate  7 non-null      object \n",
      " 7   GenderCurrent            332 non-null    int64  \n",
      " 8   PersonDeathDate          21 non-null     object \n",
      "dtypes: float64(2), int64(2), object(5)\n",
      "memory usage: 23.5+ KB\n"
     ]
    }
   ],
   "source": [
    "child_identifiers.info()"
   ]
  },
  {
   "cell_type": "code",
   "execution_count": 39,
   "metadata": {},
   "outputs": [
    {
     "name": "stdout",
     "output_type": "stream",
     "text": [
      "<class 'pandas.core.frame.DataFrame'>\n",
      "RangeIndex: 5 entries, 0 to 4\n",
      "Data columns (total 5 columns):\n",
      " #   Column             Non-Null Count  Dtype         \n",
      "---  ------             --------------  -----         \n",
      " 0   ChildId            5 non-null      object        \n",
      " 1   Age first contact  5 non-null      int64         \n",
      " 2   Gender             5 non-null      object        \n",
      " 3   Birthday           4 non-null      datetime64[ns]\n",
      " 4   CP Plan?           5 non-null      object        \n",
      "dtypes: datetime64[ns](1), int64(1), object(3)\n",
      "memory usage: 328.0+ bytes\n"
     ]
    }
   ],
   "source": [
    "child_info = pd.DataFrame({'ChildId':['id1', 'id2', 'id3', 'id4', 'id5'],\n",
    "                   'Age first contact':[6,12,11,1,19],\n",
    "                   'Gender':['M','m', 'F', '', 'F' ],\n",
    "                   'Birthday':['01/01/2002', '02/02/2003', pd.NA, '03/03/2023', '06/01/2012'],\n",
    "                   'CP Plan?':['Y', 'n', 'N', 'No', 'yES'],})\n",
    "\n",
    "nhs_numbers = pd.DataFrame([\n",
    "                            {'ChildId':'id1',\n",
    "                            'NHS Number': '303',},\n",
    "                            {'ChildId':'id2',\n",
    "                            'NHS Number': '3u5029',},\n",
    "                            {'ChildId':'id3',\n",
    "                            'NHS Number': 'gqw3',},\n",
    "                            {'ChildId':'id4',\n",
    "                            'NHS Number': 'avsgvb',},\n",
    "                            {'ChildId':'id5',\n",
    "                            'NHS Number': 'varwvw',},\n",
    "                            ])\n",
    "# child_info[['Birthday', 'CP Plan?']]\n",
    "child_info['Birthday'] = pd.to_datetime(child_info['Birthday'], format=\"%d/%m/%Y\", errors=\"coerce\")\n",
    "\n",
    "# if Year/month/day sep by dashes \"%Y-%m-%d\"\n",
    "\n",
    "child_info.info()"
   ]
  },
  {
   "cell_type": "code",
   "execution_count": 40,
   "metadata": {},
   "outputs": [],
   "source": [
    "child_identifiers['PersonBirthDate'] = pd.to_datetime(child_identifiers['PersonBirthDate'], format=\"%Y-%m-%d\", errors=\"coerce\")\n"
   ]
  },
  {
   "cell_type": "code",
   "execution_count": 41,
   "metadata": {},
   "outputs": [],
   "source": [
    "child_identifiers['ExpectedPersonBirthDate'] = pd.to_datetime(child_identifiers['ExpectedPersonBirthDate'], format=\"Y-%m-%d\", errors=\"coerce\")\n"
   ]
  },
  {
   "cell_type": "code",
   "execution_count": 42,
   "metadata": {},
   "outputs": [
    {
     "name": "stdout",
     "output_type": "stream",
     "text": [
      "<class 'pandas.core.frame.DataFrame'>\n",
      "RangeIndex: 332 entries, 0 to 331\n",
      "Data columns (total 9 columns):\n",
      " #   Column                   Non-Null Count  Dtype         \n",
      "---  ------                   --------------  -----         \n",
      " 0   Unnamed: 0               332 non-null    int64         \n",
      " 1   LAchildID                332 non-null    object        \n",
      " 2   UPN                      332 non-null    object        \n",
      " 3   FormerUPN                0 non-null      float64       \n",
      " 4   UPNunknown               0 non-null      float64       \n",
      " 5   PersonBirthDate          332 non-null    datetime64[ns]\n",
      " 6   ExpectedPersonBirthDate  0 non-null      datetime64[ns]\n",
      " 7   GenderCurrent            332 non-null    int64         \n",
      " 8   PersonDeathDate          0 non-null      datetime64[ns]\n",
      "dtypes: datetime64[ns](3), float64(2), int64(2), object(2)\n",
      "memory usage: 23.5+ KB\n"
     ]
    }
   ],
   "source": [
    "child_identifiers['PersonDeathDate'] = pd.to_datetime(child_identifiers['PersonDeathDate'], format=\"Y-%m-%d\", errors=\"coerce\")\n",
    "child_identifiers.info()"
   ]
  },
  {
   "cell_type": "code",
   "execution_count": 43,
   "metadata": {},
   "outputs": [
    {
     "data": {
      "text/html": [
       "<div>\n",
       "<style scoped>\n",
       "    .dataframe tbody tr th:only-of-type {\n",
       "        vertical-align: middle;\n",
       "    }\n",
       "\n",
       "    .dataframe tbody tr th {\n",
       "        vertical-align: top;\n",
       "    }\n",
       "\n",
       "    .dataframe thead th {\n",
       "        text-align: right;\n",
       "    }\n",
       "</style>\n",
       "<table border=\"1\" class=\"dataframe\">\n",
       "  <thead>\n",
       "    <tr style=\"text-align: right;\">\n",
       "      <th></th>\n",
       "      <th>Unnamed: 0</th>\n",
       "      <th>LAchildID</th>\n",
       "      <th>UPN</th>\n",
       "      <th>FormerUPN</th>\n",
       "      <th>UPNunknown</th>\n",
       "      <th>PersonBirthDate</th>\n",
       "      <th>ExpectedPersonBirthDate</th>\n",
       "      <th>GenderCurrent</th>\n",
       "      <th>PersonDeathDate</th>\n",
       "      <th>Age of Death</th>\n",
       "    </tr>\n",
       "  </thead>\n",
       "  <tbody>\n",
       "  </tbody>\n",
       "</table>\n",
       "</div>"
      ],
      "text/plain": [
       "Empty DataFrame\n",
       "Columns: [Unnamed: 0, LAchildID, UPN, FormerUPN, UPNunknown, PersonBirthDate, ExpectedPersonBirthDate, GenderCurrent, PersonDeathDate, Age of Death]\n",
       "Index: []"
      ]
     },
     "execution_count": 43,
     "metadata": {},
     "output_type": "execute_result"
    }
   ],
   "source": [
    "child_identifiers['Age of Death'] = child_identifiers['PersonBirthDate'] - child_identifiers['PersonDeathDate']\n",
    "# child_identifiers[child_identifiers['Age of Death'].notna()]\n",
    "child_identifiers['Age of Death'] = child_identifiers['Age of Death'] / pd.Timedelta(365.25, 'd')\n",
    "child_identifiers['Age of Death'] = child_identifiers['Age of Death'].astype('int', errors='ignore')\n",
    "child_identifiers[child_identifiers['Age of Death'].notna()]"
   ]
  },
  {
   "cell_type": "code",
   "execution_count": 44,
   "metadata": {},
   "outputs": [
    {
     "data": {
      "text/plain": [
       "0       4\n",
       "1      13\n",
       "2       7\n",
       "3       9\n",
       "4       4\n",
       "       ..\n",
       "327    13\n",
       "328     5\n",
       "329     2\n",
       "330    10\n",
       "331     2\n",
       "Name: Age, Length: 332, dtype: int64"
      ]
     },
     "execution_count": 44,
     "metadata": {},
     "output_type": "execute_result"
    }
   ],
   "source": [
    "\n",
    "child_identifiers['Age'] = pd.to_datetime('today') - child_identifiers['PersonBirthDate'] \n",
    "# child_identifiers[child_identifiers['Age of Death'].notna()]\n",
    "child_identifiers['Age'] = child_identifiers['Age'] / pd.Timedelta(365.25, 'd')\n",
    "child_identifiers['Age'] = child_identifiers['Age'].astype('int')\n",
    "child_identifiers['Age']"
   ]
  },
  {
   "cell_type": "code",
   "execution_count": 58,
   "metadata": {},
   "outputs": [
    {
     "data": {
      "text/plain": [
       "{'Child Data':   ChildID Sex        DOB EHCP issued\n",
       " 0     id1   M 2014-12-05           N\n",
       " 1     id6   m 2016-01-06           n\n",
       " 2     id4   m 2013-11-09           Y\n",
       " 3     id3   F 2022-12-24           Y\n",
       " 4     id5   F 2020-01-15         NaN\n",
       " 5     id7   f 2022-09-17           y,\n",
       " 'Child extras':   ChildID  Assessment Code\n",
       " 0     id1                1\n",
       " 1     id5                2\n",
       " 2     id4                3\n",
       " 3     id3                4\n",
       " 4     id6                5\n",
       " 5     id7                6,\n",
       " 'Sheet3':    Assessment Code Assessment Outcome\n",
       " 0                1                  Y\n",
       " 1                2                  N\n",
       " 2                3                  N\n",
       " 3                4                  n\n",
       " 4                5                  y\n",
       " 5                6                  N}"
      ]
     },
     "execution_count": 58,
     "metadata": {},
     "output_type": "execute_result"
    }
   ],
   "source": [
    "df_dict = pd.read_excel(r\"https://github.com/data-to-insight/ERN-sessions/raw/main/data/small%20excel.xlsx\", sheet_name=None)\n",
    "\n",
    "df_dict\n",
    "\n",
    "df_dict"
   ]
  },
  {
   "cell_type": "code",
   "execution_count": 63,
   "metadata": {},
   "outputs": [
    {
     "data": {
      "text/html": [
       "<div>\n",
       "<style scoped>\n",
       "    .dataframe tbody tr th:only-of-type {\n",
       "        vertical-align: middle;\n",
       "    }\n",
       "\n",
       "    .dataframe tbody tr th {\n",
       "        vertical-align: top;\n",
       "    }\n",
       "\n",
       "    .dataframe thead th {\n",
       "        text-align: right;\n",
       "    }\n",
       "</style>\n",
       "<table border=\"1\" class=\"dataframe\">\n",
       "  <thead>\n",
       "    <tr style=\"text-align: right;\">\n",
       "      <th></th>\n",
       "      <th>ChildID</th>\n",
       "      <th>Sex</th>\n",
       "      <th>DOB</th>\n",
       "      <th>EHCP issued</th>\n",
       "      <th>Assessment Code</th>\n",
       "      <th>Assessment Outcome</th>\n",
       "    </tr>\n",
       "  </thead>\n",
       "  <tbody>\n",
       "    <tr>\n",
       "      <th>0</th>\n",
       "      <td>id1</td>\n",
       "      <td>M</td>\n",
       "      <td>2014-12-05</td>\n",
       "      <td>N</td>\n",
       "      <td>1</td>\n",
       "      <td>Y</td>\n",
       "    </tr>\n",
       "    <tr>\n",
       "      <th>1</th>\n",
       "      <td>id6</td>\n",
       "      <td>m</td>\n",
       "      <td>2016-01-06</td>\n",
       "      <td>n</td>\n",
       "      <td>5</td>\n",
       "      <td>y</td>\n",
       "    </tr>\n",
       "    <tr>\n",
       "      <th>2</th>\n",
       "      <td>id4</td>\n",
       "      <td>m</td>\n",
       "      <td>2013-11-09</td>\n",
       "      <td>Y</td>\n",
       "      <td>3</td>\n",
       "      <td>N</td>\n",
       "    </tr>\n",
       "    <tr>\n",
       "      <th>3</th>\n",
       "      <td>id3</td>\n",
       "      <td>F</td>\n",
       "      <td>2022-12-24</td>\n",
       "      <td>Y</td>\n",
       "      <td>4</td>\n",
       "      <td>n</td>\n",
       "    </tr>\n",
       "    <tr>\n",
       "      <th>4</th>\n",
       "      <td>id5</td>\n",
       "      <td>F</td>\n",
       "      <td>2020-01-15</td>\n",
       "      <td>NaN</td>\n",
       "      <td>2</td>\n",
       "      <td>N</td>\n",
       "    </tr>\n",
       "    <tr>\n",
       "      <th>5</th>\n",
       "      <td>id7</td>\n",
       "      <td>f</td>\n",
       "      <td>2022-09-17</td>\n",
       "      <td>y</td>\n",
       "      <td>6</td>\n",
       "      <td>N</td>\n",
       "    </tr>\n",
       "  </tbody>\n",
       "</table>\n",
       "</div>"
      ],
      "text/plain": [
       "  ChildID Sex        DOB EHCP issued  Assessment Code Assessment Outcome\n",
       "0     id1   M 2014-12-05           N                1                  Y\n",
       "1     id6   m 2016-01-06           n                5                  y\n",
       "2     id4   m 2013-11-09           Y                3                  N\n",
       "3     id3   F 2022-12-24           Y                4                  n\n",
       "4     id5   F 2020-01-15         NaN                2                  N\n",
       "5     id7   f 2022-09-17           y                6                  N"
      ]
     },
     "execution_count": 63,
     "metadata": {},
     "output_type": "execute_result"
    }
   ],
   "source": [
    "df = pd.merge(df_dict['Child Data'], df_dict['Child extras'], how='left', on='ChildID')\n",
    "df = pd.merge(df, df_dict['Sheet3'], how='left', on='Assessment Code')\n",
    "df"
   ]
  },
  {
   "cell_type": "code",
   "execution_count": null,
   "metadata": {},
   "outputs": [],
   "source": [
    "# Have a look at the dataframes in df_dict, convert birthday column to a datetime object, merge the three tables together\n",
    "\n",
    "#df_dict = pd.read_excel(r\"https://github.com/data-to-insight/ERN-sessions/raw/main/data/small%20excel.xlsx\", sheet_name=None)\n",
    "\n",
    "#df_dict['Child Data']['DOB'] = pd.to_datetime(df_dict['Child Data']['DOB'], format=\"%Y-%m-%d\")\n",
    "\n",
    "#df = pd.merge(df_dict['Child Data'], df_dict['Child extras'], how='left', on='ChildID')\n",
    "#df = pd.merge(df, df_dict['Sheet3'], on='Assessment Code', how='left')\n",
    "\n",
    "#df.info()"
   ]
  },
  {
   "cell_type": "code",
   "execution_count": 52,
   "metadata": {},
   "outputs": [
    {
     "data": {
      "text/html": [
       "<div>\n",
       "<style scoped>\n",
       "    .dataframe tbody tr th:only-of-type {\n",
       "        vertical-align: middle;\n",
       "    }\n",
       "\n",
       "    .dataframe tbody tr th {\n",
       "        vertical-align: top;\n",
       "    }\n",
       "\n",
       "    .dataframe thead th {\n",
       "        text-align: right;\n",
       "    }\n",
       "</style>\n",
       "<table border=\"1\" class=\"dataframe\">\n",
       "  <thead>\n",
       "    <tr style=\"text-align: right;\">\n",
       "      <th></th>\n",
       "      <th>ChildId</th>\n",
       "      <th>Age first contact</th>\n",
       "      <th>Gender</th>\n",
       "      <th>Birthday</th>\n",
       "      <th>CP Plan?</th>\n",
       "      <th>NHS Number</th>\n",
       "    </tr>\n",
       "  </thead>\n",
       "  <tbody>\n",
       "    <tr>\n",
       "      <th>0</th>\n",
       "      <td>id1</td>\n",
       "      <td>6</td>\n",
       "      <td>M</td>\n",
       "      <td>2002-01-01</td>\n",
       "      <td>Y</td>\n",
       "      <td>303</td>\n",
       "    </tr>\n",
       "    <tr>\n",
       "      <th>1</th>\n",
       "      <td>id2</td>\n",
       "      <td>12</td>\n",
       "      <td>m</td>\n",
       "      <td>2003-02-02</td>\n",
       "      <td>n</td>\n",
       "      <td>3u5029</td>\n",
       "    </tr>\n",
       "    <tr>\n",
       "      <th>2</th>\n",
       "      <td>id3</td>\n",
       "      <td>11</td>\n",
       "      <td>F</td>\n",
       "      <td>NaT</td>\n",
       "      <td>N</td>\n",
       "      <td>gqw3</td>\n",
       "    </tr>\n",
       "    <tr>\n",
       "      <th>3</th>\n",
       "      <td>id4</td>\n",
       "      <td>1</td>\n",
       "      <td></td>\n",
       "      <td>2023-03-03</td>\n",
       "      <td>No</td>\n",
       "      <td>avsgvb</td>\n",
       "    </tr>\n",
       "    <tr>\n",
       "      <th>4</th>\n",
       "      <td>id5</td>\n",
       "      <td>19</td>\n",
       "      <td>F</td>\n",
       "      <td>2012-01-06</td>\n",
       "      <td>yES</td>\n",
       "      <td>varwvw</td>\n",
       "    </tr>\n",
       "  </tbody>\n",
       "</table>\n",
       "</div>"
      ],
      "text/plain": [
       "  ChildId  Age first contact Gender   Birthday CP Plan? NHS Number\n",
       "0     id1                  6      M 2002-01-01        Y        303\n",
       "1     id2                 12      m 2003-02-02        n     3u5029\n",
       "2     id3                 11      F        NaT        N       gqw3\n",
       "3     id4                  1        2023-03-03       No     avsgvb\n",
       "4     id5                 19      F 2012-01-06      yES     varwvw"
      ]
     },
     "execution_count": 52,
     "metadata": {},
     "output_type": "execute_result"
    }
   ],
   "source": [
    "child_info = pd.merge(child_info, nhs_numbers, how='left', left_on='ChildId', right_on='ChildId')\n",
    "child_info"
   ]
  },
  {
   "cell_type": "code",
   "execution_count": 57,
   "metadata": {},
   "outputs": [],
   "source": [
    "df_dict = pd.read_excel(r\"https://github.com/data-to-insight/ERN-sessions/raw/main/data/small%20excel.xlsx\", sheet_name=None)\n"
   ]
  },
  {
   "cell_type": "code",
   "execution_count": 66,
   "metadata": {},
   "outputs": [],
   "source": [
    "#.notna returns rows with non na values\n"
   ]
  },
  {
   "cell_type": "code",
   "execution_count": null,
   "metadata": {},
   "outputs": [],
   "source": [
    "# > greater than\n",
    "# < less than\n",
    "# ==  equals\n",
    " \n",
    "# ~ not\n",
    "# >=/<= greater equals/less equals\n",
    "!# = does not equal\n",
    " \n",
    "# & and\n",
    "# | or\n",
    " \n",
    "# .isna() / .notna()\n",
    "# .isin()\n",
    "# .str.contains()"
   ]
  },
  {
   "cell_type": "code",
   "execution_count": 67,
   "metadata": {},
   "outputs": [
    {
     "data": {
      "text/html": [
       "<div>\n",
       "<style scoped>\n",
       "    .dataframe tbody tr th:only-of-type {\n",
       "        vertical-align: middle;\n",
       "    }\n",
       "\n",
       "    .dataframe tbody tr th {\n",
       "        vertical-align: top;\n",
       "    }\n",
       "\n",
       "    .dataframe thead th {\n",
       "        text-align: right;\n",
       "    }\n",
       "</style>\n",
       "<table border=\"1\" class=\"dataframe\">\n",
       "  <thead>\n",
       "    <tr style=\"text-align: right;\">\n",
       "      <th></th>\n",
       "      <th>ChildId</th>\n",
       "      <th>Age first contact</th>\n",
       "      <th>Gender</th>\n",
       "      <th>Birthday</th>\n",
       "      <th>CP Plan?</th>\n",
       "      <th>NHS Number</th>\n",
       "    </tr>\n",
       "  </thead>\n",
       "  <tbody>\n",
       "    <tr>\n",
       "      <th>0</th>\n",
       "      <td>id1</td>\n",
       "      <td>6</td>\n",
       "      <td>M</td>\n",
       "      <td>2002-01-01</td>\n",
       "      <td>Y</td>\n",
       "      <td>303</td>\n",
       "    </tr>\n",
       "    <tr>\n",
       "      <th>1</th>\n",
       "      <td>id2</td>\n",
       "      <td>12</td>\n",
       "      <td>m</td>\n",
       "      <td>2003-02-02</td>\n",
       "      <td>n</td>\n",
       "      <td>3u5029</td>\n",
       "    </tr>\n",
       "    <tr>\n",
       "      <th>2</th>\n",
       "      <td>id3</td>\n",
       "      <td>11</td>\n",
       "      <td>F</td>\n",
       "      <td>NaT</td>\n",
       "      <td>N</td>\n",
       "      <td>gqw3</td>\n",
       "    </tr>\n",
       "    <tr>\n",
       "      <th>4</th>\n",
       "      <td>id5</td>\n",
       "      <td>19</td>\n",
       "      <td>F</td>\n",
       "      <td>2012-01-06</td>\n",
       "      <td>yES</td>\n",
       "      <td>varwvw</td>\n",
       "    </tr>\n",
       "  </tbody>\n",
       "</table>\n",
       "</div>"
      ],
      "text/plain": [
       "  ChildId  Age first contact Gender   Birthday CP Plan? NHS Number\n",
       "0     id1                  6      M 2002-01-01        Y        303\n",
       "1     id2                 12      m 2003-02-02        n     3u5029\n",
       "2     id3                 11      F        NaT        N       gqw3\n",
       "4     id5                 19      F 2012-01-06      yES     varwvw"
      ]
     },
     "execution_count": 67,
     "metadata": {},
     "output_type": "execute_result"
    }
   ],
   "source": [
    "condition = child_info['Age first contact'] > 5\n",
    "contact_after_5 = child_info[condition]\n",
    "contact_after_5"
   ]
  },
  {
   "cell_type": "code",
   "execution_count": null,
   "metadata": {},
   "outputs": [],
   "source": [
    "# condition = child_info['Age first contact'] > 5\n",
    "# contact_after_5 = child_info[condition]\n",
    "# contact_after_5\n",
    "\n",
    "condition = (child_info['Age first contact'] > 5) | (child_info['CP Plan?'].str.lower().str.contains('n'))\n",
    "contact_after_5_cp = child_info[condition]\n",
    "contact_after_5_cp"
   ]
  }
 ],
 "metadata": {
  "kernelspec": {
   "display_name": "Python 3",
   "language": "python",
   "name": "python3"
  },
  "language_info": {
   "codemirror_mode": {
    "name": "ipython",
    "version": 3
   },
   "file_extension": ".py",
   "mimetype": "text/x-python",
   "name": "python",
   "nbconvert_exporter": "python",
   "pygments_lexer": "ipython3",
   "version": "3.10.13"
  }
 },
 "nbformat": 4,
 "nbformat_minor": 2
}
