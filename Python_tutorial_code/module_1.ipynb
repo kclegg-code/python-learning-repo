{
 "cells": [
  {
   "cell_type": "code",
   "execution_count": 6,
   "metadata": {},
   "outputs": [
    {
     "name": "stdout",
     "output_type": "stream",
     "text": [
      "15\n",
      "2.0\n"
     ]
    }
   ],
   "source": [
    "x = 5\n",
    "y = 10\n",
    "\n",
    "z = x + y\n",
    "\n",
    "print(z)\n",
    "\n",
    "j = y / x\n",
    "print(j)"
   ]
  },
  {
   "cell_type": "code",
   "execution_count": 7,
   "metadata": {},
   "outputs": [
    {
     "ename": "TypeError",
     "evalue": "unsupported operand type(s) for /: 'str' and 'str'",
     "output_type": "error",
     "traceback": [
      "\u001b[0;31m---------------------------------------------------------------------------\u001b[0m",
      "\u001b[0;31mTypeError\u001b[0m                                 Traceback (most recent call last)",
      "Cell \u001b[0;32mIn[7], line 3\u001b[0m\n\u001b[1;32m      1\u001b[0m x \u001b[38;5;241m=\u001b[39m \u001b[38;5;124m\"\u001b[39m\u001b[38;5;124m5\u001b[39m\u001b[38;5;124m\"\u001b[39m\n\u001b[1;32m      2\u001b[0m y \u001b[38;5;241m=\u001b[39m \u001b[38;5;124m\"\u001b[39m\u001b[38;5;124m10\u001b[39m\u001b[38;5;124m\"\u001b[39m\n\u001b[0;32m----> 3\u001b[0m z \u001b[38;5;241m=\u001b[39m \u001b[43mx\u001b[49m\u001b[43m \u001b[49m\u001b[38;5;241;43m/\u001b[39;49m\u001b[43m \u001b[49m\u001b[43my\u001b[49m\n",
      "\u001b[0;31mTypeError\u001b[0m: unsupported operand type(s) for /: 'str' and 'str'"
     ]
    }
   ],
   "source": [
    "x = \"5\"\n",
    "y = \"10\"\n",
    "z = x / y\n",
    "# variable stored as charachter so cannot perform the function in z\n"
   ]
  },
  {
   "cell_type": "code",
   "execution_count": 9,
   "metadata": {},
   "outputs": [
    {
     "name": "stdout",
     "output_type": "stream",
     "text": [
      "<class 'float'>\n",
      "<class 'int'>\n"
     ]
    }
   ],
   "source": [
    "print(type(j))\n",
    "print(type(z))"
   ]
  },
  {
   "cell_type": "code",
   "execution_count": null,
   "metadata": {},
   "outputs": [],
   "source": [
    "#In this cell, initialise two numeric variables and find their product\n",
    "#using the * operator for multiplication and assign this to a new variable.\n",
    "#Print the new variable\n",
    " \n",
    "#he radius of a circle is 2, assume that Pi is 3.14. Assign both of these\n",
    "#to suitably named variables and find the area of the circle.\n",
    "#We can find the area of a circle by finding the product of Pi with the radius squared.\n",
    "#You probably don't know how to square a number in Python yet, so use Google to work it out!"
   ]
  },
  {
   "cell_type": "code",
   "execution_count": 10,
   "metadata": {},
   "outputs": [
    {
     "name": "stdout",
     "output_type": "stream",
     "text": [
      "12\n"
     ]
    }
   ],
   "source": [
    "a = 3\n",
    "b = 4\n",
    "c = a * b\n",
    "print(c)"
   ]
  },
  {
   "cell_type": "code",
   "execution_count": 18,
   "metadata": {},
   "outputs": [
    {
     "name": "stdout",
     "output_type": "stream",
     "text": [
      "12.56\n"
     ]
    }
   ],
   "source": [
    "radius = 2\n",
    "pi = 3.14\n",
    "area = pi * (radius ** 2)\n",
    "print(area)"
   ]
  },
  {
   "cell_type": "code",
   "execution_count": 24,
   "metadata": {},
   "outputs": [
    {
     "name": "stdout",
     "output_type": "stream",
     "text": [
      "KirstyKnitting\n",
      "My name is: Kirsty, and I like Knitting.\n"
     ]
    }
   ],
   "source": [
    "name = \"Kirsty\"\n",
    "hobby = \"Knitting\"\n",
    "outcome = name + hobby\n",
    "print(outcome)\n",
    "\n",
    "outcome_2 = f\"My name is: {name}, and I like {hobby}.\"\n",
    "print(outcome_2)"
   ]
  },
  {
   "cell_type": "code",
   "execution_count": 21,
   "metadata": {},
   "outputs": [
    {
     "name": "stdout",
     "output_type": "stream",
     "text": [
      "CIN Plans per year\n"
     ]
    }
   ],
   "source": [
    "dropdown = \"CIN Plans\"\n",
    "\n",
    "title = dropdown + \" per year\"\n",
    "print(title)"
   ]
  },
  {
   "cell_type": "code",
   "execution_count": 29,
   "metadata": {},
   "outputs": [
    {
     "name": "stdout",
     "output_type": "stream",
     "text": [
      "My name is Kirsty and my job is Data Analyst.\n"
     ]
    }
   ],
   "source": [
    "#In this cell, initialise two appropriately named variables, one for your name and one for your job title.\n",
    "#Next, combine them in an f string, assigned to a different, appropriately named variable.\n",
    "#Finally, print the f string.\n",
    "\n",
    "name = \"Kirsty\"\n",
    "job = \"Data Analyst\"\n",
    "name_job = f\"My name is {name} and my job is {job}.\"\n",
    "print(name_job)\n"
   ]
  },
  {
   "cell_type": "code",
   "execution_count": 38,
   "metadata": {},
   "outputs": [
    {
     "name": "stdout",
     "output_type": "stream",
     "text": [
      "4\n",
      "7\n",
      "4567\n",
      "13579\n",
      "987654321\n"
     ]
    }
   ],
   "source": [
    "# indexing starts at 0 in python\n",
    "\n",
    "num_string = \"123456789\"\n",
    "\n",
    "sub_string = num_string[3]\n",
    "\n",
    "print(sub_string)\n",
    "\n",
    "# 1 is from rhd\n",
    "\n",
    "sub_string_rhs = num_string[-3]\n",
    "print(sub_string_rhs)\n",
    "\n",
    "# start is inclusive, stop is exclusive\n",
    "\n",
    "sub_range = num_string[3:7]\n",
    "print(sub_range)\n",
    "\n",
    "# step = start:stop:step\n",
    "step_range = num_string[::2]\n",
    "\n",
    "print(step_range)\n",
    "\n",
    "reverse = num_string[-1::-1]\n",
    "print(reverse)"
   ]
  },
  {
   "cell_type": "code",
   "execution_count": 45,
   "metadata": {},
   "outputs": [
    {
     "name": "stdout",
     "output_type": "stream",
     "text": [
      "dog\n",
      "cat\n",
      "racoon\n"
     ]
    }
   ],
   "source": [
    "# In this cell I've initialised a variable 'slice_this_phrase'. \n",
    "# On the next three lines, print the words dog, cat, and racoon seprately \n",
    "#using a slice from the beginning, a slice giving a range in the middle, and a slice from the end.\n",
    "# This means one slice will involve [:n], one will involve [n1:n2], and one will involve [-n:].\n",
    "\n",
    "slice_this_phrase = 'dog cat racoon'\n",
    "\n",
    "dog = slice_this_phrase[:3]\n",
    "print(dog)\n",
    "\n",
    "cat = slice_this_phrase[4:7]\n",
    "print(cat)\n",
    "\n",
    "racoon = slice_this_phrase[-6:]\n",
    "print(racoon)"
   ]
  },
  {
   "cell_type": "code",
   "execution_count": null,
   "metadata": {},
   "outputs": [],
   "source": [
    "#Workshop 07.06.24\n",
    "#Tabular data\n"
   ]
  }
 ],
 "metadata": {
  "kernelspec": {
   "display_name": "Python 3",
   "language": "python",
   "name": "python3"
  },
  "language_info": {
   "codemirror_mode": {
    "name": "ipython",
    "version": 3
   },
   "file_extension": ".py",
   "mimetype": "text/x-python",
   "name": "python",
   "nbconvert_exporter": "python",
   "pygments_lexer": "ipython3",
   "version": "3.10.13"
  }
 },
 "nbformat": 4,
 "nbformat_minor": 2
}
