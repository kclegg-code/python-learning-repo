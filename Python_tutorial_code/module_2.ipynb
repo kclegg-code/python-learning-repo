{
 "cells": [
  {
   "cell_type": "code",
   "execution_count": 137,
   "metadata": {},
   "outputs": [],
   "source": [
    "num_1 = 3 #int\n",
    "num_2 = \"5\" #str\n",
    "num_3 = 4.0 #float"
   ]
  },
  {
   "cell_type": "code",
   "execution_count": 138,
   "metadata": {},
   "outputs": [],
   "source": [
    "#str()\n",
    "#int()\n",
    "#float()"
   ]
  },
  {
   "cell_type": "code",
   "execution_count": 139,
   "metadata": {},
   "outputs": [
    {
     "name": "stdout",
     "output_type": "stream",
     "text": [
      "3\n",
      "<class 'int'>\n"
     ]
    }
   ],
   "source": [
    "type_num_1 = type(num_1)\n",
    "print(num_1)\n",
    "print(type_num_1)"
   ]
  },
  {
   "cell_type": "code",
   "execution_count": 140,
   "metadata": {},
   "outputs": [
    {
     "name": "stdout",
     "output_type": "stream",
     "text": [
      "I have a number: 3.\n",
      "I have a number: 3.\n"
     ]
    }
   ],
   "source": [
    "#formatted string\n",
    "string_1 = f'I have a number: {num_1}.'\n",
    "\n",
    "#normal concatenated string\n",
    "string_2= 'I have a number: ' + str(num_1) + '.'\n",
    "\n",
    "print(string_1)\n",
    "print(string_2)"
   ]
  },
  {
   "cell_type": "code",
   "execution_count": 141,
   "metadata": {},
   "outputs": [
    {
     "name": "stdout",
     "output_type": "stream",
     "text": [
      "h\n"
     ]
    }
   ],
   "source": [
    "substring_1 = string_1[2]\n",
    "print(substring_1)"
   ]
  },
  {
   "cell_type": "code",
   "execution_count": 142,
   "metadata": {},
   "outputs": [
    {
     "name": "stdout",
     "output_type": "stream",
     "text": [
      "have a number:\n"
     ]
    }
   ],
   "source": [
    "# [start : stop : step]\n",
    "substring_2 = string_1[2:-3]\n",
    "print(substring_2)"
   ]
  },
  {
   "cell_type": "code",
   "execution_count": 143,
   "metadata": {},
   "outputs": [
    {
     "name": "stdout",
     "output_type": "stream",
     "text": [
      "Ihv  ubr .\n"
     ]
    }
   ],
   "source": [
    "substring_3 = string_1[::2]\n",
    "print(substring_3)"
   ]
  },
  {
   "cell_type": "code",
   "execution_count": 144,
   "metadata": {},
   "outputs": [
    {
     "name": "stdout",
     "output_type": "stream",
     "text": [
      ".3 :rebmun a evah I\n"
     ]
    }
   ],
   "source": [
    "reverse_string = string_1[-1::-1]\n",
    "print(reverse_string)"
   ]
  },
  {
   "cell_type": "code",
   "execution_count": 145,
   "metadata": {},
   "outputs": [
    {
     "name": "stdout",
     "output_type": "stream",
     "text": [
      "<class 'list'>\n"
     ]
    }
   ],
   "source": [
    "#%%\n",
    "list_1 = []\n",
    "print(type(list_1))"
   ]
  },
  {
   "cell_type": "code",
   "execution_count": 146,
   "metadata": {},
   "outputs": [
    {
     "name": "stdout",
     "output_type": "stream",
     "text": [
      "green\n"
     ]
    }
   ],
   "source": [
    "colours = [\"red\", \"blue\", \"green\"]\n",
    "print(colours[-1])"
   ]
  },
  {
   "cell_type": "code",
   "execution_count": 147,
   "metadata": {},
   "outputs": [
    {
     "name": "stdout",
     "output_type": "stream",
     "text": [
      "['red', 'blue', 'green', 'purple']\n"
     ]
    }
   ],
   "source": [
    "colours.append(\"purple\")\n",
    "print(colours)"
   ]
  },
  {
   "cell_type": "code",
   "execution_count": 148,
   "metadata": {},
   "outputs": [
    {
     "name": "stdout",
     "output_type": "stream",
     "text": [
      "['red', 'blue', 'green', 'purple', ['turquoise', 'teal']]\n"
     ]
    }
   ],
   "source": [
    "extra_colours = [\"turquoise\", \"teal\"]\n",
    "colours.append(extra_colours)\n",
    "print(colours)"
   ]
  },
  {
   "cell_type": "code",
   "execution_count": 149,
   "metadata": {},
   "outputs": [
    {
     "name": "stdout",
     "output_type": "stream",
     "text": [
      "['red', 'blue', 'green', 'purple', ['turquoise', 'teal'], 'turquoise', 'teal']\n"
     ]
    }
   ],
   "source": [
    "colours.extend(extra_colours)\n",
    "print(colours)"
   ]
  },
  {
   "cell_type": "code",
   "execution_count": 150,
   "metadata": {},
   "outputs": [
    {
     "name": "stdout",
     "output_type": "stream",
     "text": [
      "['red', 'blue', 'green', 'purple', ['turquoise', 'teal'], 'turquoise', 'teal', 'g', 'r', 'e', 'y']\n"
     ]
    }
   ],
   "source": [
    "colours.extend(\"grey\")\n",
    "print(colours)\n"
   ]
  },
  {
   "cell_type": "code",
   "execution_count": 151,
   "metadata": {},
   "outputs": [
    {
     "name": "stdout",
     "output_type": "stream",
     "text": [
      "['red', 'blue', 'green', 'purple', ['turquoise', 'teal'], 'turquoise', 'teal', 'g', 'r', 'e', 'y', 'purple', 'purple', 'purple']\n"
     ]
    }
   ],
   "source": [
    "colours.extend([\"purple\",\"purple\",\"purple\"])\n",
    "print(colours)"
   ]
  },
  {
   "cell_type": "code",
   "execution_count": 152,
   "metadata": {},
   "outputs": [
    {
     "name": "stdout",
     "output_type": "stream",
     "text": [
      "['red', 'blue', 'green', ['turquoise', 'teal'], 'turquoise', 'teal', 'g', 'r', 'e', 'y', 'purple', 'purple', 'purple']\n"
     ]
    }
   ],
   "source": [
    "colours.remove(\"purple\")\n",
    "print(colours)"
   ]
  },
  {
   "cell_type": "code",
   "execution_count": 153,
   "metadata": {},
   "outputs": [
    {
     "name": "stdout",
     "output_type": "stream",
     "text": [
      "['red', 'blue', 'green', ['turquoise', 'teal'], 'turquoise', 'teal', 'g', 'r', 'e', 'y', 'purple', 'purple']\n",
      "['red', 'blue', 'green', ['turquoise', 'teal'], 'turquoise', 'teal', 'g', 'r', 'e', 'y', 'purple']\n",
      "['red', 'blue', 'green', ['turquoise', 'teal'], 'turquoise', 'teal', 'g', 'r', 'e', 'y']\n"
     ]
    }
   ],
   "source": [
    "colours.remove(\"purple\")\n",
    "print(colours)\n",
    "colours.remove(\"purple\")\n",
    "print(colours)\n",
    "colours.remove(\"purple\")\n",
    "print(colours)\n"
   ]
  },
  {
   "cell_type": "code",
   "execution_count": 154,
   "metadata": {},
   "outputs": [
    {
     "name": "stdout",
     "output_type": "stream",
     "text": [
      "['cereal', 'milk', 'eggs']\n"
     ]
    }
   ],
   "source": [
    "#%%\n",
    "#In this cell, make a list of a few foods and print it.\n",
    "#Then append the list with another food and print it.\n",
    "#Next, make another list of foods and use the extend method to\n",
    "#add those extra foods as individual elements of the list and print it.\n",
    "#Finally, remove and element from the list and the final list.\n",
    "#Remember to always use a suuitable name for your lists.\n",
    "\n",
    "shopping_list = [\"cereal\",\"milk\",\"eggs\"]\n",
    "print(shopping_list)"
   ]
  },
  {
   "cell_type": "code",
   "execution_count": 155,
   "metadata": {},
   "outputs": [
    {
     "name": "stdout",
     "output_type": "stream",
     "text": [
      "['cereal', 'milk', 'eggs', 'flour']\n"
     ]
    }
   ],
   "source": [
    "\n",
    "shopping_list.append(\"flour\")\n",
    "print(shopping_list)"
   ]
  },
  {
   "cell_type": "code",
   "execution_count": 156,
   "metadata": {},
   "outputs": [
    {
     "name": "stdout",
     "output_type": "stream",
     "text": [
      "['cereal', 'milk', 'eggs', 'flour', 'potatoes', 'pasta']\n"
     ]
    }
   ],
   "source": [
    "shopping_list.extend([\"potatoes\",\"pasta\"])\n",
    "print(shopping_list)"
   ]
  },
  {
   "cell_type": "code",
   "execution_count": 157,
   "metadata": {},
   "outputs": [
    {
     "name": "stdout",
     "output_type": "stream",
     "text": [
      "['cereal', 'eggs', 'flour', 'potatoes', 'pasta']\n"
     ]
    }
   ],
   "source": [
    "shopping_list.remove(milk)\n",
    "print(shopping_list)"
   ]
  },
  {
   "cell_type": "code",
   "execution_count": 158,
   "metadata": {},
   "outputs": [
    {
     "name": "stdout",
     "output_type": "stream",
     "text": [
      "['sausage', 'mash', 'gravy']\n"
     ]
    }
   ],
   "source": [
    "#In this cell, make a list of a few foods and print it.\n",
    "food = [\"sausage\",\"mash\",\"gravy\"]\n",
    "print(food)"
   ]
  },
  {
   "cell_type": "code",
   "execution_count": 159,
   "metadata": {},
   "outputs": [
    {
     "name": "stdout",
     "output_type": "stream",
     "text": [
      "['sausage', 'mash', 'gravy', 'peas']\n"
     ]
    }
   ],
   "source": [
    "#Then append the list with another food and print it\n",
    "food.append(\"peas\")\n",
    "print(food)\n"
   ]
  },
  {
   "cell_type": "code",
   "execution_count": 160,
   "metadata": {},
   "outputs": [
    {
     "name": "stdout",
     "output_type": "stream",
     "text": [
      "['sausage', 'mash', 'gravy', 'peas', ['salt', 'pepper']]\n"
     ]
    }
   ],
   "source": [
    "#Next, make another list of foods and use the extend method to\n",
    "#add those extra foods as individual elements of the list and print it\n",
    "food_2 = [\"salt\",\"pepper\"]\n",
    "food.append(food_2)\n",
    "print(food)"
   ]
  },
  {
   "cell_type": "code",
   "execution_count": 161,
   "metadata": {},
   "outputs": [
    {
     "name": "stdout",
     "output_type": "stream",
     "text": [
      "['sausage', 'mash', 'gravy', 'peas', ['pepper']]\n"
     ]
    }
   ],
   "source": [
    "#Finally, remove an element from the list and print the final list\n",
    "food_2.remove(\"salt\")\n",
    "print(food)"
   ]
  },
  {
   "cell_type": "code",
   "execution_count": 162,
   "metadata": {},
   "outputs": [],
   "source": [
    "#add entries to dictionaries"
   ]
  },
  {
   "cell_type": "code",
   "execution_count": 163,
   "metadata": {},
   "outputs": [
    {
     "name": "stdout",
     "output_type": "stream",
     "text": [
      "Purple\n"
     ]
    }
   ],
   "source": [
    "fav_cols = {\"Will\":\"Purple\",\n",
    "            \"Andy\":[\"Purple\",\"Teal\"],\n",
    "            \"Annie\":{\"Monday\":\"Red\",\n",
    "                     \"Rest of the week\":colours}\n",
    "                     }\n",
    "print(fav_cols[\"Andy\"][0])"
   ]
  },
  {
   "cell_type": "code",
   "execution_count": 164,
   "metadata": {},
   "outputs": [
    {
     "name": "stdout",
     "output_type": "stream",
     "text": [
      "y\n"
     ]
    }
   ],
   "source": [
    "print(fav_cols[\"Annie\"][\"Rest of the week\"][-1])"
   ]
  },
  {
   "cell_type": "code",
   "execution_count": 165,
   "metadata": {},
   "outputs": [
    {
     "name": "stdout",
     "output_type": "stream",
     "text": [
      "dict_keys(['Will', 'Andy', 'Annie'])\n"
     ]
    }
   ],
   "source": [
    "print(fav_cols.keys())"
   ]
  },
  {
   "cell_type": "code",
   "execution_count": 166,
   "metadata": {},
   "outputs": [
    {
     "name": "stdout",
     "output_type": "stream",
     "text": [
      "dict_values(['Purple', ['Purple', 'Teal'], {'Monday': 'Red', 'Rest of the week': ['red', 'blue', 'green', ['turquoise', 'teal'], 'turquoise', 'teal', 'g', 'r', 'e', 'y']}])\n"
     ]
    }
   ],
   "source": [
    "print(fav_cols.values())"
   ]
  },
  {
   "cell_type": "code",
   "execution_count": 167,
   "metadata": {},
   "outputs": [
    {
     "name": "stdout",
     "output_type": "stream",
     "text": [
      "dict_items([('Will', 'Purple'), ('Andy', ['Purple', 'Teal']), ('Annie', {'Monday': 'Red', 'Rest of the week': ['red', 'blue', 'green', ['turquoise', 'teal'], 'turquoise', 'teal', 'g', 'r', 'e', 'y']})])\n"
     ]
    }
   ],
   "source": [
    "print(fav_cols.items())"
   ]
  },
  {
   "cell_type": "code",
   "execution_count": 170,
   "metadata": {},
   "outputs": [
    {
     "name": "stdout",
     "output_type": "stream",
     "text": [
      "{'Will': 'Purple', 'Andy': ['Purple', 'Teal'], 'Annie': {'Monday': 'Red', 'Rest of the week': ['red', 'blue', 'green', ['turquoise', 'teal'], 'turquoise', 'teal', 'g', 'r', 'e', 'y']}, 'Naomie': 'Yellow'}\n"
     ]
    }
   ],
   "source": [
    "fav_cols[\"Naomie\"] = \"Yellow\"\n",
    "print(fav_cols)"
   ]
  },
  {
   "cell_type": "code",
   "execution_count": 171,
   "metadata": {},
   "outputs": [
    {
     "name": "stdout",
     "output_type": "stream",
     "text": [
      "{'Will': 'Purple', 'Andy': ['Purple', 'Teal'], 'Annie': 'Gold', 'Naomie': 'Yellow'}\n"
     ]
    }
   ],
   "source": [
    "fav_cols[\"Annie\"] = \"Gold\"\n",
    "print(fav_cols)"
   ]
  },
  {
   "cell_type": "code",
   "execution_count": 173,
   "metadata": {},
   "outputs": [
    {
     "name": "stdout",
     "output_type": "stream",
     "text": [
      "False\n"
     ]
    }
   ],
   "source": [
    "print(\"annie\" in fav_cols)"
   ]
  },
  {
   "cell_type": "code",
   "execution_count": null,
   "metadata": {},
   "outputs": [],
   "source": [
    "#Make a dictionary of names and job titles, have about 3 entries\n",
    "#Make sure 1 person has multiple jobs using a dictionary as their value\n",
    "#print the keys, values and items\n",
    "#add an entry using the name[] syntax\n",
    "#overwrite an entry using the same syntax"
   ]
  },
  {
   "cell_type": "code",
   "execution_count": 180,
   "metadata": {},
   "outputs": [
    {
     "name": "stdout",
     "output_type": "stream",
     "text": [
      "{'Kirsty': 'Senior Officer', 'Roger': 'Project Manager', 'Harry': {'Weekdays': 'Student', 'Weekend': 'Gamer'}}\n"
     ]
    }
   ],
   "source": [
    "Jobs = {\"Kirsty\":\"Senior Officer\",\n",
    "        \"Roger\":\"Project Manager\",\n",
    "        \"Harry\":{\"Weekdays\":\"Student\",\n",
    "                  \"Weekend\":\"Gamer\"}}\n",
    "print(Jobs)"
   ]
  },
  {
   "cell_type": "code",
   "execution_count": 179,
   "metadata": {},
   "outputs": [
    {
     "name": "stdout",
     "output_type": "stream",
     "text": [
      "dict_keys(['Kirsty', 'Roger', 'Duggee'])\n",
      "dict_values(['Senior Officer', 'Project Manager', {'Mondays': 'Dog', 'Tuesday': 'Good Boy'}])\n",
      "dict_items([('Kirsty', 'Senior Officer'), ('Roger', 'Project Manager'), ('Duggee', {'Mondays': 'Dog', 'Tuesday': 'Good Boy'})])\n"
     ]
    }
   ],
   "source": [
    "print(Jobs.keys())\n",
    "print(Jobs.values())\n",
    "print(Jobs.items())"
   ]
  },
  {
   "cell_type": "code",
   "execution_count": 181,
   "metadata": {},
   "outputs": [
    {
     "name": "stdout",
     "output_type": "stream",
     "text": [
      "{'Kirsty': 'Senior Officer', 'Roger': 'Project Manager', 'Harry': {'Weekdays': 'Student', 'Weekend': 'Gamer'}, 'Charlotte': 'Cheeky'}\n"
     ]
    }
   ],
   "source": [
    "Jobs [\"Charlotte\"] = \"Cheeky\"\n",
    "print(Jobs)"
   ]
  },
  {
   "cell_type": "code",
   "execution_count": 182,
   "metadata": {},
   "outputs": [
    {
     "name": "stdout",
     "output_type": "stream",
     "text": [
      "{'Kirsty': 'Senior Officer', 'Roger': 'Dad', 'Harry': {'Weekdays': 'Student', 'Weekend': 'Gamer'}, 'Charlotte': 'Cheeky'}\n"
     ]
    }
   ],
   "source": [
    "Jobs [\"Roger\"] = \"Dad\"\n",
    "print(Jobs)"
   ]
  },
  {
   "cell_type": "code",
   "execution_count": 185,
   "metadata": {},
   "outputs": [
    {
     "ename": "NameError",
     "evalue": "name 'kirstyclegg' is not defined",
     "output_type": "error",
     "traceback": [
      "\u001b[0;31m---------------------------------------------------------------------------\u001b[0m",
      "\u001b[0;31mNameError\u001b[0m                                 Traceback (most recent call last)",
      "Cell \u001b[0;32mIn[185], line 1\u001b[0m\n\u001b[0;32m----> 1\u001b[0m email \u001b[38;5;241m=\u001b[39m \u001b[43mkirstyclegg\u001b[49m\u001b[38;5;129m@stockton\u001b[39m\u001b[38;5;241m.\u001b[39mgov\u001b[38;5;241m.\u001b[39muk\n\u001b[1;32m      2\u001b[0m name \u001b[38;5;241m=\u001b[39m email\u001b[38;5;241m.\u001b[39msplit(\u001b[38;5;124m'\u001b[39m\u001b[38;5;124m@\u001b[39m\u001b[38;5;124m'\u001b[39m)\n\u001b[1;32m      3\u001b[0m \u001b[38;5;28mprint\u001b[39m(name)\n",
      "\u001b[0;31mNameError\u001b[0m: name 'kirstyclegg' is not defined"
     ]
    }
   ],
   "source": [
    "email = kirstyclegg@stockton.gov.uk\n",
    "name = email.split('@')\n",
    "print(name)"
   ]
  }
 ],
 "metadata": {
  "kernelspec": {
   "display_name": "Python 3",
   "language": "python",
   "name": "python3"
  },
  "language_info": {
   "codemirror_mode": {
    "name": "ipython",
    "version": 3
   },
   "file_extension": ".py",
   "mimetype": "text/x-python",
   "name": "python",
   "nbconvert_exporter": "python",
   "pygments_lexer": "ipython3",
   "version": "3.10.13"
  }
 },
 "nbformat": 4,
 "nbformat_minor": 2
}
