{
 "cells": [
  {
   "cell_type": "code",
   "execution_count": 1,
   "metadata": {},
   "outputs": [
    {
     "name": "stdout",
     "output_type": "stream",
     "text": [
      "1\n",
      "2\n",
      "3\n",
      "4\n",
      "5\n",
      "6\n",
      "7\n",
      "8\n",
      "9\n",
      "10\n"
     ]
    }
   ],
   "source": [
    "# %%\n",
    "numbers = list(range(1,11))\n",
    "\n",
    "numbers\n",
    "\n",
    "# %%\n",
    "for number in numbers:\n",
    "    print(number)\n",
    "    \n"
   ]
  },
  {
   "cell_type": "code",
   "execution_count": 2,
   "metadata": {},
   "outputs": [
    {
     "name": "stdout",
     "output_type": "stream",
     "text": [
      "Hello, my name is Bob\n",
      "Hello, my name is Dave\n",
      "Hello, my name is Stu\n",
      "Hello, my name is John\n",
      "Hello, my name is Chris\n"
     ]
    }
   ],
   "source": [
    "# %%\n",
    "# LOOPS\n",
    "# make a list of 5 names as strings\n",
    "# loop over that list of names and using an f string have it print out\n",
    "# somethign like \"Hello, my name is NAME\"\n",
    "\n",
    "# %%\n",
    "names_list = ['Bob', 'Dave', 'Stu', 'John', 'Chris']\n",
    "\n",
    "for name in names_list:\n",
    "    phrase = f'Hello, my name is {name}'\n",
    "\n",
    "    print(phrase)\n",
    "\n"
   ]
  },
  {
   "cell_type": "code",
   "execution_count": 3,
   "metadata": {},
   "outputs": [
    {
     "name": "stdout",
     "output_type": "stream",
     "text": [
      "Hello, my name is Will.\n",
      "Hello, my name is Annie.\n",
      "Hello, my name is Andy.\n",
      "Hello, my name is Naiomi.\n",
      "Woof!\n"
     ]
    }
   ],
   "source": [
    "# %%\n",
    "# make a list of 5 names as strings\n",
    "names_list = ['Will', 'Annie', 'Andy', 'Naiomi', 'Scout']\n",
    " \n",
    "# loop over that list of names and using an f string have it print out\n",
    "# somethign like \"Hello, my name is NAME\"\n",
    "for name in names_list:\n",
    "    if name == 'Scout':\n",
    "        print('Woof!')\n",
    "    else:\n",
    "        phrase = f'Hello, my name is {name}.'\n",
    "        print(phrase)\n"
   ]
  },
  {
   "cell_type": "code",
   "execution_count": 4,
   "metadata": {},
   "outputs": [
    {
     "name": "stdout",
     "output_type": "stream",
     "text": [
      "(0, 'Will')\n",
      "(1, 'Annie')\n",
      "(2, 'Andy')\n",
      "(3, 'Naiomi')\n",
      "(4, 'Scout')\n"
     ]
    }
   ],
   "source": [
    "# phrase\n",
    "\n",
    "# %%\n",
    "for name in enumerate(names_list):\n",
    "    print(name)\n",
    "\n",
    "# %%\n",
    "names_dict = {}\n",
    " \n",
    "# for index, name in enumerate(names_list):\n",
    "#     # names_dict = {}\n",
    "#     names_dict[index] = name\n",
    " \n",
    "# print(names_dict)\n"
   ]
  },
  {
   "cell_type": "code",
   "execution_count": 5,
   "metadata": {},
   "outputs": [
    {
     "name": "stdout",
     "output_type": "stream",
     "text": [
      "{'key1': 2, 'key2': 3}\n"
     ]
    }
   ],
   "source": [
    "dict_1 = {'key1':1,\n",
    "          'key2':2}\n",
    " \n",
    "# dict_1.keys()\n",
    " \n",
    "# dict_1.values()\n",
    " \n",
    "# dict_1.items()\n",
    " \n",
    "for key, value in dict_1.items():\n",
    "    value += 1\n",
    "    dict_1[key] = value\n",
    " \n",
    "print(dict_1)\n",
    "\n"
   ]
  },
  {
   "cell_type": "code",
   "execution_count": 6,
   "metadata": {},
   "outputs": [
    {
     "data": {
      "text/plain": [
       "{'Will': 'My name is Will, and I am a Data manager',\n",
       " 'Annie': 'My name is Annie, and I am Retired',\n",
       " 'Andy': 'My name is Andy, and I am Retired',\n",
       " 'Naiomi': 'My name is Naiomi, and I am a Policy Writer',\n",
       " 'Scout': 'My name is Scout, and I am a Moral Support'}"
      ]
     },
     "execution_count": 6,
     "metadata": {},
     "output_type": "execute_result"
    }
   ],
   "source": [
    "# %%\n",
    "# make a dictionry of 5 names and job titles\n",
    "# use k,v loop to print something like \"My name is NAME and I am a JOB TITLE\"\n",
    "# make a new dicitonary of names as they keys and the new f strings as the values\n",
    " \n",
    "name_job = {'Will':'Data manager',\n",
    "            'Annie':'Retired',\n",
    "            'Andy':'Retired',\n",
    "            'Naiomi':'Policy Writer',\n",
    "            'Scout':'Moral Support'}\n",
    " \n",
    "name_phrase = {}\n",
    " \n",
    "for k, v in name_job.items():\n",
    "    if (k == 'Annie') | (k == 'Andy'):\n",
    "        phrase = f'My name is {k}, and I am {v}'\n",
    "    else:\n",
    "        phrase = f'My name is {k}, and I am a {v}'\n",
    "    name_phrase[k] = phrase\n",
    " \n",
    "name_phrase\n",
    "\n"
   ]
  },
  {
   "cell_type": "code",
   "execution_count": 7,
   "metadata": {},
   "outputs": [
    {
     "name": "stdout",
     "output_type": "stream",
     "text": [
      "the current i is 2\n",
      "the current i is 4\n",
      "the current i is 6\n",
      "the current i is 8\n",
      "the current i is 10\n",
      "the current i is 12\n",
      "[2, 6, 10, 14, 18, 22, 4, 12, 20, 28, 36, 44, 6, 18, 30, 42, 54, 66, 8, 24, 40, 56, 72, 88, 10, 30, 50, 70, 90, 110, 12, 36, 60, 84, 108, 132]\n"
     ]
    }
   ],
   "source": [
    "# %%\n",
    "evens = list(range(2,13,2))\n",
    "odds = list(range(1,13,2))\n",
    " \n",
    "multiply_list = []\n",
    " \n",
    "for i in evens:\n",
    "    print(f'the current i is {i}')\n",
    "    for j in odds:\n",
    "        multiply_list.append(i*j)\n",
    "   \n",
    "print(multiply_list)\n",
    "\n"
   ]
  },
  {
   "cell_type": "code",
   "execution_count": 8,
   "metadata": {},
   "outputs": [
    {
     "data": {
      "text/plain": [
       "['butter and ham',\n",
       " 'butter and cheese',\n",
       " 'butter and sardines',\n",
       " 'jam and ham',\n",
       " 'jam and cheese',\n",
       " 'jam and sardines',\n",
       " 'peanut butter and ham',\n",
       " 'peanut butter and cheese',\n",
       " 'peanut butter and sardines']"
      ]
     },
     "execution_count": 8,
     "metadata": {},
     "output_type": "execute_result"
    }
   ],
   "source": [
    "# %%\n",
    "# using these two lists of sandwich ingredients, find (using for loops) all of the spread/topping combinations\n",
    "# append them to a new list of all the combos\n",
    "spreads = ['butter', 'jam', 'peanut butter']\n",
    "toppings = ['ham', 'cheese', 'sardines']\n",
    " \n",
    "combos = []\n",
    " \n",
    "for spread in spreads:\n",
    "    for topping in toppings:\n",
    "        combo = f'{spread} and {topping}'\n",
    "        combos.append(combo)\n",
    " \n",
    "combos\n"
   ]
  },
  {
   "cell_type": "code",
   "execution_count": 9,
   "metadata": {},
   "outputs": [
    {
     "name": "stdout",
     "output_type": "stream",
     "text": [
      "59 is not divisible by 3 or 5\n"
     ]
    }
   ],
   "source": [
    "# %%\n",
    "number = 59\n",
    " \n",
    "if (number % 3 == 0):\n",
    "    print(f'{number} is divisible by 3')\n",
    "elif (number % 5 == 0):\n",
    "    print(f'{number} is divisible by 5')\n",
    "else:\n",
    "    print(f'{number} is not divisible by 3 or 5')\n",
    "\n"
   ]
  },
  {
   "cell_type": "code",
   "execution_count": 10,
   "metadata": {},
   "outputs": [
    {
     "name": "stdout",
     "output_type": "stream",
     "text": [
      "1\n",
      "2\n",
      "fizz\n",
      "4\n",
      "bang\n",
      "fizz\n",
      "7\n",
      "8\n",
      "fizz\n",
      "bang\n",
      "11\n",
      "fizz\n",
      "13\n",
      "14\n",
      "fizzbang\n",
      "16\n",
      "17\n",
      "fizz\n",
      "19\n",
      "bang\n",
      "fizz\n",
      "22\n",
      "23\n",
      "fizz\n",
      "bang\n",
      "26\n",
      "fizz\n",
      "28\n",
      "29\n",
      "fizzbang\n",
      "31\n",
      "32\n",
      "fizz\n",
      "34\n",
      "bang\n",
      "fizz\n",
      "37\n",
      "38\n",
      "fizz\n",
      "bang\n",
      "41\n",
      "fizz\n",
      "43\n",
      "44\n",
      "fizzbang\n",
      "46\n",
      "47\n",
      "fizz\n",
      "49\n",
      "bang\n",
      "fizz\n",
      "52\n",
      "53\n",
      "fizz\n",
      "bang\n",
      "56\n",
      "fizz\n",
      "58\n",
      "59\n",
      "fizzbang\n",
      "61\n",
      "62\n",
      "fizz\n",
      "64\n",
      "bang\n",
      "fizz\n",
      "67\n",
      "68\n",
      "fizz\n",
      "bang\n",
      "71\n",
      "fizz\n",
      "73\n",
      "74\n",
      "fizzbang\n",
      "76\n",
      "77\n",
      "fizz\n",
      "79\n",
      "bang\n",
      "fizz\n",
      "82\n",
      "83\n",
      "fizz\n",
      "bang\n",
      "86\n",
      "fizz\n",
      "88\n",
      "89\n",
      "fizzbang\n",
      "91\n",
      "92\n",
      "fizz\n",
      "94\n",
      "bang\n",
      "fizz\n",
      "97\n",
      "98\n",
      "fizz\n",
      "bang\n",
      "1\n",
      "2\n",
      "fizz\n",
      "4\n",
      "bang\n",
      "fizz\n",
      "7\n",
      "8\n",
      "fizz\n",
      "bang\n",
      "11\n",
      "fizz\n",
      "13\n",
      "14\n",
      "fizzbang\n",
      "16\n",
      "17\n",
      "fizz\n",
      "19\n",
      "bang\n",
      "fizz\n",
      "22\n",
      "23\n",
      "fizz\n",
      "bang\n",
      "26\n",
      "fizz\n",
      "28\n",
      "29\n",
      "fizzbang\n",
      "31\n",
      "32\n",
      "fizz\n",
      "34\n",
      "bang\n",
      "fizz\n",
      "37\n",
      "38\n",
      "fizz\n",
      "bang\n",
      "41\n",
      "fizz\n",
      "43\n",
      "44\n",
      "fizzbang\n",
      "46\n",
      "47\n",
      "fizz\n",
      "49\n",
      "bang\n",
      "fizz\n",
      "52\n",
      "53\n",
      "fizz\n",
      "bang\n",
      "56\n",
      "fizz\n",
      "58\n",
      "59\n",
      "fizzbang\n",
      "61\n",
      "62\n",
      "fizz\n",
      "64\n",
      "bang\n",
      "fizz\n",
      "67\n",
      "68\n",
      "fizz\n",
      "bang\n",
      "71\n",
      "fizz\n",
      "73\n",
      "74\n",
      "fizzbang\n",
      "76\n",
      "77\n",
      "fizz\n",
      "79\n",
      "bang\n",
      "fizz\n",
      "82\n",
      "83\n",
      "fizz\n",
      "bang\n",
      "86\n",
      "fizz\n",
      "88\n",
      "89\n",
      "fizzbang\n",
      "91\n",
      "92\n",
      "fizz\n",
      "94\n",
      "bang\n",
      "fizz\n",
      "97\n",
      "98\n",
      "fizz\n",
      "bang\n"
     ]
    }
   ],
   "source": [
    "# %%\n",
    "# fizzbang\n",
    "# take all the numbers form 1-100,\n",
    "# print them, BUT if the number is divisible by 3, print fizz,\n",
    "# if it's divisible by 5 print bang\n",
    "# BUT if it's divisible by 3 & 5 print fizzbang\n",
    "\n",
    "numbers = list(range(1,101))\n",
    " \n",
    "for number in numbers:\n",
    "    if (number % 3 == 0) & (number % 5 ==0):\n",
    "        print('fizzbang')\n",
    "    elif (number % 3 == 0):\n",
    "        print('fizz')\n",
    "    elif (number % 5 == 0):\n",
    "        print('bang')\n",
    "    else:\n",
    "        print(number)\n",
    " \n",
    "for number in numbers:\n",
    "    if (number % 3 == 0):\n",
    "        if (number % 5 ==0):\n",
    "            print('fizzbang')\n",
    "        else:\n",
    "            print('fizz')\n",
    "    elif (number % 5 == 0):\n",
    "        print('bang')\n",
    "    else:\n",
    "        print(number)\n"
   ]
  }
 ],
 "metadata": {
  "kernelspec": {
   "display_name": "Python 3",
   "language": "python",
   "name": "python3"
  },
  "language_info": {
   "codemirror_mode": {
    "name": "ipython",
    "version": 3
   },
   "file_extension": ".py",
   "mimetype": "text/x-python",
   "name": "python",
   "nbconvert_exporter": "python",
   "pygments_lexer": "ipython3",
   "version": "3.10.13"
  }
 },
 "nbformat": 4,
 "nbformat_minor": 2
}
