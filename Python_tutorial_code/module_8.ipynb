{
 "cells": [
  {
   "cell_type": "code",
   "execution_count": 1,
   "metadata": {},
   "outputs": [
    {
     "name": "stdout",
     "output_type": "stream",
     "text": [
      "You're running the fn function!\n"
     ]
    }
   ],
   "source": [
    "# def = define\n",
    "def fn():\n",
    "    print(\"You're running the fn function!\")\n",
    "\n",
    "fn()\n"
   ]
  },
  {
   "cell_type": "code",
   "execution_count": 3,
   "metadata": {},
   "outputs": [
    {
     "name": "stdout",
     "output_type": "stream",
     "text": [
      "Hi\n",
      "I'm Kirsty\n"
     ]
    }
   ],
   "source": [
    "# add parameters\n",
    "def fn(param_1):\n",
    "    print(param_1)\n",
    "\n",
    "fn('Hi')\n",
    "fn(\"I'm Kirsty\")"
   ]
  },
  {
   "cell_type": "code",
   "execution_count": null,
   "metadata": {},
   "outputs": [],
   "source": [
    "#variables and parameters defined in a function are only available within the function"
   ]
  },
  {
   "cell_type": "code",
   "execution_count": 7,
   "metadata": {},
   "outputs": [
    {
     "name": "stdout",
     "output_type": "stream",
     "text": [
      "5\n",
      "10\n",
      "The sum of 5 and 10 is 15.\n"
     ]
    }
   ],
   "source": [
    "def fxy(x, y):\n",
    "    print(x)\n",
    "    print(y)\n",
    "    print(f'The sum of {x} and {y} is {x + y}.')\n",
    "\n",
    "fxy(x=5, y=10)"
   ]
  },
  {
   "cell_type": "code",
   "execution_count": 8,
   "metadata": {},
   "outputs": [
    {
     "name": "stdout",
     "output_type": "stream",
     "text": [
      "13\n",
      "9\n",
      "The sum of 13 and 9 is 22.\n"
     ]
    }
   ],
   "source": [
    "def fxy(x=13, y=9):\n",
    "    print(x)\n",
    "    print(y)\n",
    "    print(f'The sum of {x} and {y} is {x + y}.')\n",
    "\n",
    "fxy()"
   ]
  },
  {
   "cell_type": "code",
   "execution_count": 9,
   "metadata": {},
   "outputs": [
    {
     "name": "stdout",
     "output_type": "stream",
     "text": [
      "13\n",
      "22\n",
      "The sum of 13 and 22 is 35.\n"
     ]
    }
   ],
   "source": [
    "# parameters can be overwritten\n",
    "def fxy(x=13, y=9):\n",
    "    print(x)\n",
    "    print(y)\n",
    "    print(f'The sum of {x} and {y} is {x + y}.')\n",
    "\n",
    "fxy(13, 22)"
   ]
  },
  {
   "cell_type": "code",
   "execution_count": 15,
   "metadata": {},
   "outputs": [
    {
     "name": "stdout",
     "output_type": "stream",
     "text": [
      "2.0\n"
     ]
    }
   ],
   "source": [
    "# Now it's your go. Write a function, with an appropriate name\n",
    "# that divides one number by the other. Bonus points if you can make the function\n",
    "# always divide the largest of the two numbers by the smallest.\n",
    "# Get the function to print the answer\n",
    "def div_xy(x, y):\n",
    "    if x >= y:\n",
    "        z = x / y\n",
    "        print(z)\n",
    "    else:\n",
    "        z = y / x\n",
    "        print(z)\n",
    " \n",
    "div_xy(y=10, x=5)"
   ]
  },
  {
   "cell_type": "code",
   "execution_count": 16,
   "metadata": {},
   "outputs": [
    {
     "name": "stdout",
     "output_type": "stream",
     "text": [
      "2.0\n"
     ]
    }
   ],
   "source": [
    "def div_xy(x, y):\n",
    "    if x >= y:\n",
    "        z = x / y\n",
    "        print(z)\n",
    "    else:\n",
    "        z = y / x\n",
    "    return z\n",
    "\n",
    "answer = div_xy(y = 10, x = 5)\n",
    "print(answer)\n",
    " "
   ]
  },
  {
   "cell_type": "code",
   "execution_count": 17,
   "metadata": {},
   "outputs": [
    {
     "name": "stdout",
     "output_type": "stream",
     "text": [
      "(100, 2100)\n"
     ]
    }
   ],
   "source": [
    "def sum_prod(num1, num2):\n",
    "    sum_12 = num1 + num2\n",
    "    prod_12 = num1 * num2\n",
    "\n",
    "    return sum_12, prod_12\n",
    "\n",
    "answer = sum_prod(30, 70)\n",
    "\n",
    "print(answer)"
   ]
  },
  {
   "cell_type": "code",
   "execution_count": 18,
   "metadata": {},
   "outputs": [
    {
     "name": "stdout",
     "output_type": "stream",
     "text": [
      "2100\n"
     ]
    }
   ],
   "source": [
    "def sum_prod(num1, num2):\n",
    "    sum_12 = num1 + num2\n",
    "    prod_12 = num1 * num2\n",
    "\n",
    "    return sum_12, prod_12\n",
    "\n",
    "sum_30_70, prod_30_70 = sum_prod(30, 70)\n",
    "\n",
    "print(prod_30_70)"
   ]
  },
  {
   "cell_type": "code",
   "execution_count": 19,
   "metadata": {},
   "outputs": [
    {
     "name": "stdout",
     "output_type": "stream",
     "text": [
      "2100\n"
     ]
    }
   ],
   "source": [
    "def sum_prod(num1, num2):\n",
    "    sum_12 = num1 + num2\n",
    "    prod_12 = num1 * num2\n",
    " \n",
    "    return sum_12, prod_12\n",
    " \n",
    "answer = sum_prod(30, 70)\n",
    " \n",
    "print(answer[1])"
   ]
  },
  {
   "cell_type": "code",
   "execution_count": 20,
   "metadata": {},
   "outputs": [
    {
     "name": "stdout",
     "output_type": "stream",
     "text": [
      "2.0\n",
      "2.0\n"
     ]
    }
   ],
   "source": [
    "def div_ab(a, b):\n",
    "    if a >= b:\n",
    "        c = a / b\n",
    "        print(c)\n",
    "    else:\n",
    "        c = b / a\n",
    "    return c\n",
    "\n",
    "answer = div_ab(a = 10, b = 5)\n",
    "print(answer)\n",
    " "
   ]
  },
  {
   "cell_type": "code",
   "execution_count": 25,
   "metadata": {},
   "outputs": [
    {
     "name": "stdout",
     "output_type": "stream",
     "text": [
      "2.0\n",
      "5\n"
     ]
    }
   ],
   "source": [
    "def minus_div(x, y):\n",
    "    if x >= y:\n",
    "        big = x\n",
    "        small = y\n",
    "    else:\n",
    "        big = y\n",
    "        small = x\n",
    "    return big / small, big - small\n",
    " \n",
    "x_div_y, x_minus_y = minus_div(5, 10)\n",
    " \n",
    "print(x_div_y)\n",
    "print(x_minus_y)"
   ]
  },
  {
   "cell_type": "code",
   "execution_count": 26,
   "metadata": {},
   "outputs": [],
   "source": [
    "import math\n",
    "# In this cell, first, import the 'math' module.\n",
    "# Next, write a function that squares a number (hint: you can simply uses x*x),\n",
    "# Now write a function that uses math.sqrt() to find the square root of a number\n",
    "# (hint: https://docs.python.org/3/library/math.html#math.sqrt)\n",
    "# Then, write a funciton that performs both of these functions and returns both answers,\n",
    "# Finally, call the function getting two variables as your answer, and print them.\n"
   ]
  },
  {
   "cell_type": "code",
   "execution_count": 32,
   "metadata": {},
   "outputs": [
    {
     "name": "stdout",
     "output_type": "stream",
     "text": [
      "(81, 3.0)\n"
     ]
    }
   ],
   "source": [
    "def sq(x):\n",
    "    return x**2\n",
    " \n",
    "def root_fn(x):\n",
    "    return math.sqrt(x)\n",
    " \n",
    "def root_sqr_x(x):\n",
    "    return sq(x), root_fn(x)\n",
    " \n",
    "print(root_sqr_x(9))"
   ]
  },
  {
   "cell_type": "code",
   "execution_count": 33,
   "metadata": {},
   "outputs": [],
   "source": [
    "import pandas as pd"
   ]
  },
  {
   "cell_type": "code",
   "execution_count": 35,
   "metadata": {},
   "outputs": [
    {
     "data": {
      "text/html": [
       "<div>\n",
       "<style scoped>\n",
       "    .dataframe tbody tr th:only-of-type {\n",
       "        vertical-align: middle;\n",
       "    }\n",
       "\n",
       "    .dataframe tbody tr th {\n",
       "        vertical-align: top;\n",
       "    }\n",
       "\n",
       "    .dataframe thead th {\n",
       "        text-align: right;\n",
       "    }\n",
       "</style>\n",
       "<table border=\"1\" class=\"dataframe\">\n",
       "  <thead>\n",
       "    <tr style=\"text-align: right;\">\n",
       "      <th></th>\n",
       "      <th>Unnamed: 0</th>\n",
       "      <th>LAchildID</th>\n",
       "      <th>Ethnicity</th>\n",
       "    </tr>\n",
       "  </thead>\n",
       "  <tbody>\n",
       "    <tr>\n",
       "      <th>0</th>\n",
       "      <td>0</td>\n",
       "      <td>RND000215205141</td>\n",
       "      <td>WIRT</td>\n",
       "    </tr>\n",
       "    <tr>\n",
       "      <th>1</th>\n",
       "      <td>1</td>\n",
       "      <td>RND000824303014</td>\n",
       "      <td>WROM</td>\n",
       "    </tr>\n",
       "    <tr>\n",
       "      <th>2</th>\n",
       "      <td>2</td>\n",
       "      <td>RND000750143123</td>\n",
       "      <td>AOTH</td>\n",
       "    </tr>\n",
       "    <tr>\n",
       "      <th>3</th>\n",
       "      <td>3</td>\n",
       "      <td>RND000909164501</td>\n",
       "      <td>MWBC</td>\n",
       "    </tr>\n",
       "    <tr>\n",
       "      <th>4</th>\n",
       "      <td>4</td>\n",
       "      <td>RND000382171815</td>\n",
       "      <td>APKN</td>\n",
       "    </tr>\n",
       "    <tr>\n",
       "      <th>...</th>\n",
       "      <td>...</td>\n",
       "      <td>...</td>\n",
       "      <td>...</td>\n",
       "    </tr>\n",
       "    <tr>\n",
       "      <th>327</th>\n",
       "      <td>327</td>\n",
       "      <td>RND000112711501</td>\n",
       "      <td>WOTH</td>\n",
       "    </tr>\n",
       "    <tr>\n",
       "      <th>328</th>\n",
       "      <td>328</td>\n",
       "      <td>RND000513120794</td>\n",
       "      <td>WROM</td>\n",
       "    </tr>\n",
       "    <tr>\n",
       "      <th>329</th>\n",
       "      <td>329</td>\n",
       "      <td>RND000541643134</td>\n",
       "      <td>BCRB</td>\n",
       "    </tr>\n",
       "    <tr>\n",
       "      <th>330</th>\n",
       "      <td>330</td>\n",
       "      <td>RND000404939452</td>\n",
       "      <td>AIND</td>\n",
       "    </tr>\n",
       "    <tr>\n",
       "      <th>331</th>\n",
       "      <td>331</td>\n",
       "      <td>RND000589802835</td>\n",
       "      <td>WBRI</td>\n",
       "    </tr>\n",
       "  </tbody>\n",
       "</table>\n",
       "<p>332 rows × 3 columns</p>\n",
       "</div>"
      ],
      "text/plain": [
       "     Unnamed: 0        LAchildID Ethnicity\n",
       "0             0  RND000215205141      WIRT\n",
       "1             1  RND000824303014      WROM\n",
       "2             2  RND000750143123      AOTH\n",
       "3             3  RND000909164501      MWBC\n",
       "4             4  RND000382171815      APKN\n",
       "..          ...              ...       ...\n",
       "327         327  RND000112711501      WOTH\n",
       "328         328  RND000513120794      WROM\n",
       "329         329  RND000541643134      BCRB\n",
       "330         330  RND000404939452      AIND\n",
       "331         331  RND000589802835      WBRI\n",
       "\n",
       "[332 rows x 3 columns]"
      ]
     },
     "execution_count": 35,
     "metadata": {},
     "output_type": "execute_result"
    }
   ],
   "source": [
    "df = pd.read_csv('https://raw.githubusercontent.com/data-to-insight/ERN-sessions/main/data/ChildCharacteristics.csv')\n",
    "df"
   ]
  },
  {
   "cell_type": "code",
   "execution_count": 45,
   "metadata": {},
   "outputs": [
    {
     "data": {
      "text/html": [
       "<div>\n",
       "<style scoped>\n",
       "    .dataframe tbody tr th:only-of-type {\n",
       "        vertical-align: middle;\n",
       "    }\n",
       "\n",
       "    .dataframe tbody tr th {\n",
       "        vertical-align: top;\n",
       "    }\n",
       "\n",
       "    .dataframe thead th {\n",
       "        text-align: right;\n",
       "    }\n",
       "</style>\n",
       "<table border=\"1\" class=\"dataframe\">\n",
       "  <thead>\n",
       "    <tr style=\"text-align: right;\">\n",
       "      <th></th>\n",
       "      <th>Unnamed: 0</th>\n",
       "      <th>LAchildID</th>\n",
       "      <th>Ethnicity</th>\n",
       "      <th>background</th>\n",
       "    </tr>\n",
       "  </thead>\n",
       "  <tbody>\n",
       "    <tr>\n",
       "      <th>0</th>\n",
       "      <td>0</td>\n",
       "      <td>RND000215205141</td>\n",
       "      <td>WIRT</td>\n",
       "      <td>White or Mixed White</td>\n",
       "    </tr>\n",
       "    <tr>\n",
       "      <th>1</th>\n",
       "      <td>1</td>\n",
       "      <td>RND000824303014</td>\n",
       "      <td>WROM</td>\n",
       "      <td>White or Mixed White</td>\n",
       "    </tr>\n",
       "    <tr>\n",
       "      <th>2</th>\n",
       "      <td>2</td>\n",
       "      <td>RND000750143123</td>\n",
       "      <td>AOTH</td>\n",
       "      <td>Not White</td>\n",
       "    </tr>\n",
       "    <tr>\n",
       "      <th>3</th>\n",
       "      <td>3</td>\n",
       "      <td>RND000909164501</td>\n",
       "      <td>MWBC</td>\n",
       "      <td>White or Mixed White</td>\n",
       "    </tr>\n",
       "    <tr>\n",
       "      <th>4</th>\n",
       "      <td>4</td>\n",
       "      <td>RND000382171815</td>\n",
       "      <td>APKN</td>\n",
       "      <td>Not White</td>\n",
       "    </tr>\n",
       "    <tr>\n",
       "      <th>...</th>\n",
       "      <td>...</td>\n",
       "      <td>...</td>\n",
       "      <td>...</td>\n",
       "      <td>...</td>\n",
       "    </tr>\n",
       "    <tr>\n",
       "      <th>327</th>\n",
       "      <td>327</td>\n",
       "      <td>RND000112711501</td>\n",
       "      <td>WOTH</td>\n",
       "      <td>White or Mixed White</td>\n",
       "    </tr>\n",
       "    <tr>\n",
       "      <th>328</th>\n",
       "      <td>328</td>\n",
       "      <td>RND000513120794</td>\n",
       "      <td>WROM</td>\n",
       "      <td>White or Mixed White</td>\n",
       "    </tr>\n",
       "    <tr>\n",
       "      <th>329</th>\n",
       "      <td>329</td>\n",
       "      <td>RND000541643134</td>\n",
       "      <td>BCRB</td>\n",
       "      <td>Not White</td>\n",
       "    </tr>\n",
       "    <tr>\n",
       "      <th>330</th>\n",
       "      <td>330</td>\n",
       "      <td>RND000404939452</td>\n",
       "      <td>AIND</td>\n",
       "      <td>Not White</td>\n",
       "    </tr>\n",
       "    <tr>\n",
       "      <th>331</th>\n",
       "      <td>331</td>\n",
       "      <td>RND000589802835</td>\n",
       "      <td>WBRI</td>\n",
       "      <td>White or Mixed White</td>\n",
       "    </tr>\n",
       "  </tbody>\n",
       "</table>\n",
       "<p>332 rows × 4 columns</p>\n",
       "</div>"
      ],
      "text/plain": [
       "     Unnamed: 0        LAchildID Ethnicity            background\n",
       "0             0  RND000215205141      WIRT  White or Mixed White\n",
       "1             1  RND000824303014      WROM  White or Mixed White\n",
       "2             2  RND000750143123      AOTH             Not White\n",
       "3             3  RND000909164501      MWBC  White or Mixed White\n",
       "4             4  RND000382171815      APKN             Not White\n",
       "..          ...              ...       ...                   ...\n",
       "327         327  RND000112711501      WOTH  White or Mixed White\n",
       "328         328  RND000513120794      WROM  White or Mixed White\n",
       "329         329  RND000541643134      BCRB             Not White\n",
       "330         330  RND000404939452      AIND             Not White\n",
       "331         331  RND000589802835      WBRI  White or Mixed White\n",
       "\n",
       "[332 rows x 4 columns]"
      ]
     },
     "execution_count": 45,
     "metadata": {},
     "output_type": "execute_result"
    }
   ],
   "source": [
    "def ethnic_check(ethnicity_code):\n",
    "    if 'W' in ethnicity_code:\n",
    "        return 'White or Mixed White'\n",
    "    else:\n",
    "        return 'Not White'\n",
    "    \n",
    "df['background'] = df['Ethnicity'].apply(ethnic_check)\n",
    "\n",
    "df"
   ]
  },
  {
   "cell_type": "code",
   "execution_count": 47,
   "metadata": {},
   "outputs": [
    {
     "data": {
      "text/html": [
       "<div>\n",
       "<style scoped>\n",
       "    .dataframe tbody tr th:only-of-type {\n",
       "        vertical-align: middle;\n",
       "    }\n",
       "\n",
       "    .dataframe tbody tr th {\n",
       "        vertical-align: top;\n",
       "    }\n",
       "\n",
       "    .dataframe thead th {\n",
       "        text-align: right;\n",
       "    }\n",
       "</style>\n",
       "<table border=\"1\" class=\"dataframe\">\n",
       "  <thead>\n",
       "    <tr style=\"text-align: right;\">\n",
       "      <th></th>\n",
       "      <th>Unnamed: 0</th>\n",
       "      <th>LAchildID</th>\n",
       "      <th>UPN</th>\n",
       "      <th>FormerUPN</th>\n",
       "      <th>UPNunknown</th>\n",
       "      <th>PersonBirthDate</th>\n",
       "      <th>ExpectedPersonBirthDate</th>\n",
       "      <th>GenderCurrent</th>\n",
       "      <th>PersonDeathDate</th>\n",
       "    </tr>\n",
       "  </thead>\n",
       "  <tbody>\n",
       "    <tr>\n",
       "      <th>0</th>\n",
       "      <td>0</td>\n",
       "      <td>RND000215205141</td>\n",
       "      <td>A850728973744</td>\n",
       "      <td>NaN</td>\n",
       "      <td>NaN</td>\n",
       "      <td>2019-12-06</td>\n",
       "      <td>NaN</td>\n",
       "      <td>1</td>\n",
       "      <td>NaN</td>\n",
       "    </tr>\n",
       "    <tr>\n",
       "      <th>1</th>\n",
       "      <td>1</td>\n",
       "      <td>RND000824303014</td>\n",
       "      <td>A141396438491</td>\n",
       "      <td>NaN</td>\n",
       "      <td>NaN</td>\n",
       "      <td>2011-04-27</td>\n",
       "      <td>NaN</td>\n",
       "      <td>9</td>\n",
       "      <td>NaN</td>\n",
       "    </tr>\n",
       "    <tr>\n",
       "      <th>2</th>\n",
       "      <td>2</td>\n",
       "      <td>RND000750143123</td>\n",
       "      <td>A929946861554</td>\n",
       "      <td>NaN</td>\n",
       "      <td>NaN</td>\n",
       "      <td>2017-06-06</td>\n",
       "      <td>2019-12-06</td>\n",
       "      <td>1</td>\n",
       "      <td>NaN</td>\n",
       "    </tr>\n",
       "    <tr>\n",
       "      <th>3</th>\n",
       "      <td>3</td>\n",
       "      <td>RND000909164501</td>\n",
       "      <td>A612330267292</td>\n",
       "      <td>NaN</td>\n",
       "      <td>NaN</td>\n",
       "      <td>2014-10-03</td>\n",
       "      <td>NaN</td>\n",
       "      <td>0</td>\n",
       "      <td>NaN</td>\n",
       "    </tr>\n",
       "    <tr>\n",
       "      <th>4</th>\n",
       "      <td>4</td>\n",
       "      <td>RND000382171815</td>\n",
       "      <td>A604459366806</td>\n",
       "      <td>NaN</td>\n",
       "      <td>NaN</td>\n",
       "      <td>2019-09-25</td>\n",
       "      <td>NaN</td>\n",
       "      <td>2</td>\n",
       "      <td>NaN</td>\n",
       "    </tr>\n",
       "    <tr>\n",
       "      <th>...</th>\n",
       "      <td>...</td>\n",
       "      <td>...</td>\n",
       "      <td>...</td>\n",
       "      <td>...</td>\n",
       "      <td>...</td>\n",
       "      <td>...</td>\n",
       "      <td>...</td>\n",
       "      <td>...</td>\n",
       "      <td>...</td>\n",
       "    </tr>\n",
       "    <tr>\n",
       "      <th>327</th>\n",
       "      <td>327</td>\n",
       "      <td>RND000112711501</td>\n",
       "      <td>A465246916125</td>\n",
       "      <td>NaN</td>\n",
       "      <td>NaN</td>\n",
       "      <td>2010-07-07</td>\n",
       "      <td>NaN</td>\n",
       "      <td>2</td>\n",
       "      <td>NaN</td>\n",
       "    </tr>\n",
       "    <tr>\n",
       "      <th>328</th>\n",
       "      <td>328</td>\n",
       "      <td>RND000513120794</td>\n",
       "      <td>A540014111973</td>\n",
       "      <td>NaN</td>\n",
       "      <td>NaN</td>\n",
       "      <td>2018-08-14</td>\n",
       "      <td>NaN</td>\n",
       "      <td>2</td>\n",
       "      <td>NaN</td>\n",
       "    </tr>\n",
       "    <tr>\n",
       "      <th>329</th>\n",
       "      <td>329</td>\n",
       "      <td>RND000541643134</td>\n",
       "      <td>A549582689058</td>\n",
       "      <td>NaN</td>\n",
       "      <td>NaN</td>\n",
       "      <td>2021-12-09</td>\n",
       "      <td>NaN</td>\n",
       "      <td>51</td>\n",
       "      <td>NaN</td>\n",
       "    </tr>\n",
       "    <tr>\n",
       "      <th>330</th>\n",
       "      <td>330</td>\n",
       "      <td>RND000404939452</td>\n",
       "      <td>A889492349196</td>\n",
       "      <td>NaN</td>\n",
       "      <td>NaN</td>\n",
       "      <td>2013-07-23</td>\n",
       "      <td>NaN</td>\n",
       "      <td>2</td>\n",
       "      <td>NaN</td>\n",
       "    </tr>\n",
       "    <tr>\n",
       "      <th>331</th>\n",
       "      <td>331</td>\n",
       "      <td>RND000589802835</td>\n",
       "      <td>A877624860226</td>\n",
       "      <td>NaN</td>\n",
       "      <td>NaN</td>\n",
       "      <td>2021-10-25</td>\n",
       "      <td>NaN</td>\n",
       "      <td>9</td>\n",
       "      <td>NaN</td>\n",
       "    </tr>\n",
       "  </tbody>\n",
       "</table>\n",
       "<p>332 rows × 9 columns</p>\n",
       "</div>"
      ],
      "text/plain": [
       "     Unnamed: 0        LAchildID            UPN  FormerUPN  UPNunknown  \\\n",
       "0             0  RND000215205141  A850728973744        NaN         NaN   \n",
       "1             1  RND000824303014  A141396438491        NaN         NaN   \n",
       "2             2  RND000750143123  A929946861554        NaN         NaN   \n",
       "3             3  RND000909164501  A612330267292        NaN         NaN   \n",
       "4             4  RND000382171815  A604459366806        NaN         NaN   \n",
       "..          ...              ...            ...        ...         ...   \n",
       "327         327  RND000112711501  A465246916125        NaN         NaN   \n",
       "328         328  RND000513120794  A540014111973        NaN         NaN   \n",
       "329         329  RND000541643134  A549582689058        NaN         NaN   \n",
       "330         330  RND000404939452  A889492349196        NaN         NaN   \n",
       "331         331  RND000589802835  A877624860226        NaN         NaN   \n",
       "\n",
       "    PersonBirthDate ExpectedPersonBirthDate  GenderCurrent PersonDeathDate  \n",
       "0        2019-12-06                     NaN              1             NaN  \n",
       "1        2011-04-27                     NaN              9             NaN  \n",
       "2        2017-06-06              2019-12-06              1             NaN  \n",
       "3        2014-10-03                     NaN              0             NaN  \n",
       "4        2019-09-25                     NaN              2             NaN  \n",
       "..              ...                     ...            ...             ...  \n",
       "327      2010-07-07                     NaN              2             NaN  \n",
       "328      2018-08-14                     NaN              2             NaN  \n",
       "329      2021-12-09                     NaN             51             NaN  \n",
       "330      2013-07-23                     NaN              2             NaN  \n",
       "331      2021-10-25                     NaN              9             NaN  \n",
       "\n",
       "[332 rows x 9 columns]"
      ]
     },
     "execution_count": 47,
     "metadata": {},
     "output_type": "execute_result"
    }
   ],
   "source": [
    "\n",
    "#write a function that calculates ages based on the data, and returns a new column in age range buckets\n",
    "#0-5, 6-11, 12-17, 18+\n",
    " \n",
    "#convert that to a datetime\n",
    "#find the difference between the datetime and today\n",
    "#if else statements to put that difference in time in a bucket\n",
    "#return as a string the appropriate buckets to a nerw column\n",
    "df2 = pd.read_csv('https://raw.githubusercontent.com/data-to-insight/ERN-sessions/main/data/ChildIdentifiers.csv')\n",
    "df2\n"
   ]
  },
  {
   "cell_type": "code",
   "execution_count": 53,
   "metadata": {},
   "outputs": [
    {
     "data": {
      "text/html": [
       "<div>\n",
       "<style scoped>\n",
       "    .dataframe tbody tr th:only-of-type {\n",
       "        vertical-align: middle;\n",
       "    }\n",
       "\n",
       "    .dataframe tbody tr th {\n",
       "        vertical-align: top;\n",
       "    }\n",
       "\n",
       "    .dataframe thead th {\n",
       "        text-align: right;\n",
       "    }\n",
       "</style>\n",
       "<table border=\"1\" class=\"dataframe\">\n",
       "  <thead>\n",
       "    <tr style=\"text-align: right;\">\n",
       "      <th></th>\n",
       "      <th>PersonBirthDate</th>\n",
       "      <th>Age Bucket</th>\n",
       "    </tr>\n",
       "  </thead>\n",
       "  <tbody>\n",
       "    <tr>\n",
       "      <th>0</th>\n",
       "      <td>2019-12-06</td>\n",
       "      <td>0-5 years old</td>\n",
       "    </tr>\n",
       "    <tr>\n",
       "      <th>1</th>\n",
       "      <td>2011-04-27</td>\n",
       "      <td>12-17 years old</td>\n",
       "    </tr>\n",
       "    <tr>\n",
       "      <th>2</th>\n",
       "      <td>2017-06-06</td>\n",
       "      <td>6-11 years old</td>\n",
       "    </tr>\n",
       "    <tr>\n",
       "      <th>3</th>\n",
       "      <td>2014-10-03</td>\n",
       "      <td>6-11 years old</td>\n",
       "    </tr>\n",
       "    <tr>\n",
       "      <th>4</th>\n",
       "      <td>2019-09-25</td>\n",
       "      <td>0-5 years old</td>\n",
       "    </tr>\n",
       "    <tr>\n",
       "      <th>...</th>\n",
       "      <td>...</td>\n",
       "      <td>...</td>\n",
       "    </tr>\n",
       "    <tr>\n",
       "      <th>327</th>\n",
       "      <td>2010-07-07</td>\n",
       "      <td>12-17 years old</td>\n",
       "    </tr>\n",
       "    <tr>\n",
       "      <th>328</th>\n",
       "      <td>2018-08-14</td>\n",
       "      <td>0-5 years old</td>\n",
       "    </tr>\n",
       "    <tr>\n",
       "      <th>329</th>\n",
       "      <td>2021-12-09</td>\n",
       "      <td>0-5 years old</td>\n",
       "    </tr>\n",
       "    <tr>\n",
       "      <th>330</th>\n",
       "      <td>2013-07-23</td>\n",
       "      <td>6-11 years old</td>\n",
       "    </tr>\n",
       "    <tr>\n",
       "      <th>331</th>\n",
       "      <td>2021-10-25</td>\n",
       "      <td>0-5 years old</td>\n",
       "    </tr>\n",
       "  </tbody>\n",
       "</table>\n",
       "<p>332 rows × 2 columns</p>\n",
       "</div>"
      ],
      "text/plain": [
       "    PersonBirthDate       Age Bucket\n",
       "0        2019-12-06    0-5 years old\n",
       "1        2011-04-27  12-17 years old\n",
       "2        2017-06-06   6-11 years old\n",
       "3        2014-10-03   6-11 years old\n",
       "4        2019-09-25    0-5 years old\n",
       "..              ...              ...\n",
       "327      2010-07-07  12-17 years old\n",
       "328      2018-08-14    0-5 years old\n",
       "329      2021-12-09    0-5 years old\n",
       "330      2013-07-23   6-11 years old\n",
       "331      2021-10-25    0-5 years old\n",
       "\n",
       "[332 rows x 2 columns]"
      ]
     },
     "execution_count": 53,
     "metadata": {},
     "output_type": "execute_result"
    }
   ],
   "source": [
    "def bucket_maker(date_code):\n",
    "    bday = pd.to_datetime(date_code, format=\"%Y-%m-%d\")\n",
    "    today = pd.to_datetime('today')\n",
    " \n",
    "    age = today - bday\n",
    "    age = age / pd.Timedelta(365.25, 'd')\n",
    " \n",
    "    if age < 6:\n",
    "        return '0-5 years old'\n",
    "    elif age < 12:\n",
    "        return '6-11 years old'\n",
    "    elif age < 18:\n",
    "        return '12-17 years old'\n",
    "    else:\n",
    "        return '18+ years old'\n",
    " \n",
    "df2['Age Bucket'] = df2['PersonBirthDate'].apply(bucket_maker)\n",
    " \n",
    "df2[['PersonBirthDate', 'Age Bucket']]\n",
    "\n",
    "    #if bday + pd.DateOffset(6, 'Y') > today:\n",
    "      #  return '0-5 years old'\n",
    "    #elif bday + pd.DateOffset(12, 'Y') < today:\n",
    "    #    return '6-11 years old'\n",
    "    #elif bday + pd.DateOffset(18, 'Y') < today:\n",
    "    #    return '12-17 years old'\n",
    "    #else:\n",
    "    #    return 'over 5'\n",
    "    #return bday\n"
   ]
  }
 ],
 "metadata": {
  "kernelspec": {
   "display_name": "Python 3",
   "language": "python",
   "name": "python3"
  },
  "language_info": {
   "codemirror_mode": {
    "name": "ipython",
    "version": 3
   },
   "file_extension": ".py",
   "mimetype": "text/x-python",
   "name": "python",
   "nbconvert_exporter": "python",
   "pygments_lexer": "ipython3",
   "version": "3.10.13"
  }
 },
 "nbformat": 4,
 "nbformat_minor": 2
}
